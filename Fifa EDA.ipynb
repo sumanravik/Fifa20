{
 "cells": [
  {
   "cell_type": "code",
   "execution_count": null,
   "metadata": {},
   "outputs": [],
   "source": [
    "import pandas as pd\n",
    "import matplotlib.pyplot as plt"
   ]
  },
  {
   "cell_type": "code",
   "execution_count": null,
   "metadata": {},
   "outputs": [],
   "source": [
    "fifa = pd.read_csv(r\"C:\\Users\\suman\\Python\\Final_Fifa.csv\")"
   ]
  },
  {
   "cell_type": "code",
   "execution_count": null,
   "metadata": {},
   "outputs": [],
   "source": [
    "pd.set_option(\"display.max_rows\",500)\n",
    "pd.set_option('display.max_columns', 200)  \n",
    "fifa.head()"
   ]
  },
  {
   "cell_type": "code",
   "execution_count": null,
   "metadata": {},
   "outputs": [],
   "source": [
    "fifa_club = fifa[[\"Club\",\"Potential\", \"Overall\"]].groupby(by = 'Club').mean().reset_index()\n",
    "fifa_club\n",
    "fifa_club = fifa_club.loc[fifa_club['Potential']>85, : ]"
   ]
  },
  {
   "cell_type": "code",
   "execution_count": null,
   "metadata": {},
   "outputs": [],
   "source": [
    "fif = fifa_club.sort_values(by=\"Overall\", ascending = False, ignore_index=\"True\")"
   ]
  },
  {
   "cell_type": "code",
   "execution_count": null,
   "metadata": {},
   "outputs": [],
   "source": [
    "siz = fif['Potential'].to_list"
   ]
  },
  {
   "cell_type": "code",
   "execution_count": null,
   "metadata": {},
   "outputs": [],
   "source": [
    "pot =  fif['Potential'].astype(\"int16\")\n",
    "ovr =  fif['Overall'].astype(\"int16\")"
   ]
  },
  {
   "cell_type": "code",
   "execution_count": null,
   "metadata": {},
   "outputs": [],
   "source": [
    "fifa_club"
   ]
  },
  {
   "cell_type": "code",
   "execution_count": null,
   "metadata": {},
   "outputs": [],
   "source": [
    "# Create the figure and axes objects\n",
    "fig, ax = plt.subplots(figsize=(10, 6))\n",
    "fig.suptitle('Club potential')\n",
    "# Plot the scatter points\n",
    "ax.scatter(fifa_club[\"Potential\"],fifa_club[\"Overall\"],\n",
    "           color=\"#D91E31\",  # Color of the dots\n",
    "           s=pot,         # Size of the dots # Can only pass integer values \n",
    "           alpha=0.6,     # Alpha of the dots\n",
    "           linewidths=0)  # Size of edge around the dots\n",
    "\n",
    "# Add the participant names as text labels for each point\n",
    "for x_pos, y_pos, label in zip(fifa_club[\"Potential\"],fifa_club[\"Overall\"],  fifa_club[\"Club\"]):\n",
    "    ax.annotate(label,             # The label for this point\n",
    "                xy=(x_pos, y_pos), # Position of the corresponding point\n",
    "                xytext=(7, 0),     # Offset text by 7 points to the right\n",
    "                textcoords='offset points', # tell it to use offset points\n",
    "                ha='left',         # Horizontally aligned to the left\n",
    "                va='center')       # Vertical alignment is centered\n",
    "\n",
    "# Show the plot\n",
    "plt.show()"
   ]
  },
  {
   "cell_type": "code",
   "execution_count": null,
   "metadata": {},
   "outputs": [],
   "source": [
    "from pandas_visual_analysis import VisualAnalysis"
   ]
  },
  {
   "cell_type": "code",
   "execution_count": null,
   "metadata": {
    "scrolled": true
   },
   "outputs": [],
   "source": [
    "VisualAnalysis(fifa_club)"
   ]
  },
  {
   "cell_type": "code",
   "execution_count": null,
   "metadata": {},
   "outputs": [],
   "source": [
    "fifa_age = fifa[[\"Age\",\"Potential\", \"Overall\"]].groupby(by = 'Age').mean().reset_index()"
   ]
  },
  {
   "cell_type": "code",
   "execution_count": null,
   "metadata": {},
   "outputs": [],
   "source": [
    "fifa_age"
   ]
  },
  {
   "cell_type": "code",
   "execution_count": null,
   "metadata": {},
   "outputs": [],
   "source": [
    "print(plt.style.available)"
   ]
  },
  {
   "cell_type": "code",
   "execution_count": null,
   "metadata": {},
   "outputs": [],
   "source": [
    "# Plot funtion has arguments x, y, label - for legends, linewidth for thickness, \n",
    "# format string color - for line color, linestyle - for variety of lines, marker - for locating the points\n",
    "#\n",
    "\n",
    "plt.style.use(\"seaborn-dark-palette\")\n",
    "plt.plot(fifa_age[\"Age\"], fifa_age[\"Overall\"], label = \"Overall\", linewidth = 5, color = \"r\" )\n",
    "plt.plot(fifa_age[\"Age\"], fifa_age[\"Potential\"], label=\"Potential\", linewidth= 3, color=\"b\")\n",
    "plt.title(\"Players overall vs Potential\")\n",
    "plt.xlabel(\"Age\")\n",
    "plt.ylabel(\"Rating\")\n",
    "plt.legend()\n",
    "plt.tight_layout()\n",
    "#plt.grid(\"True\")\n",
    "plt.show()"
   ]
  }
 ],
 "metadata": {
  "kernelspec": {
   "display_name": "Python 3",
   "language": "python",
   "name": "python3"
  },
  "language_info": {
   "codemirror_mode": {
    "name": "ipython",
    "version": 3
   },
   "file_extension": ".py",
   "mimetype": "text/x-python",
   "name": "python",
   "nbconvert_exporter": "python",
   "pygments_lexer": "ipython3",
   "version": "3.7.7"
  }
 },
 "nbformat": 4,
 "nbformat_minor": 4
}
